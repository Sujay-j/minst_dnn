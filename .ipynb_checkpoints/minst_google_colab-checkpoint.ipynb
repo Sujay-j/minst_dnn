{
 "cells": [
  {
   "cell_type": "code",
   "execution_count": 1,
   "metadata": {
    "colab": {
     "base_uri": "https://localhost:8080/",
     "height": 140,
     "resources": {
      "http://localhost:8080/nbextensions/google.colab/files.js": {
       "data": "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",
       "headers": [
        [
         "content-type",
         "application/javascript"
        ]
       ],
       "ok": true,
       "status": 200,
       "status_text": ""
      }
     }
    },
    "id": "sZvN7eAM6x_A",
    "outputId": "20dc7d8c-ada4-4bab-ce31-676cc8d74a42"
   },
   "outputs": [
    {
     "data": {
      "text/html": [
       "\n",
       "     <input type=\"file\" id=\"files-30b3a4ce-71fc-41c4-8d05-6d4e9e7e05c8\" name=\"files[]\" multiple disabled\n",
       "        style=\"border:none\" />\n",
       "     <output id=\"result-30b3a4ce-71fc-41c4-8d05-6d4e9e7e05c8\">\n",
       "      Upload widget is only available when the cell has been executed in the\n",
       "      current browser session. Please rerun this cell to enable.\n",
       "      </output>\n",
       "      <script src=\"/nbextensions/google.colab/files.js\"></script> "
      ],
      "text/plain": [
       "<IPython.core.display.HTML object>"
      ]
     },
     "metadata": {
      "tags": []
     },
     "output_type": "display_data"
    },
    {
     "name": "stdout",
     "output_type": "stream",
     "text": [
      "Saving sample_submission.csv to sample_submission.csv\n",
      "Saving test.csv to test.csv\n",
      "Saving train.csv to train.csv\n"
     ]
    }
   ],
   "source": [
    "from google.colab import files\n",
    "uploaded = files.upload()"
   ]
  },
  {
   "cell_type": "code",
   "execution_count": 2,
   "metadata": {
    "id": "CIrNNUcYl-Qv"
   },
   "outputs": [],
   "source": [
    "import io\n",
    "import pandas as pd\n",
    "train_data = pd.read_csv(io.BytesIO(uploaded['train.csv']))\n",
    "test_data = pd.read_csv(io.BytesIO(uploaded['test.csv']))"
   ]
  },
  {
   "cell_type": "code",
   "execution_count": 3,
   "metadata": {
    "id": "eChW7gNxpRiv"
   },
   "outputs": [],
   "source": [
    "import matplotlib.pyplot as plt\n",
    "import seaborn as sns\n",
    "from sklearn.model_selection import train_test_split\n",
    "from sklearn.metrics import confusion_matrix\n",
    "from tensorflow.keras.models import Sequential\n",
    "from tensorflow.keras.layers import Conv2D, Lambda, MaxPooling2D ,Dense , Dropout, Flatten, BatchNormalization\n",
    "from tensorflow.keras.preprocessing.image import ImageDataGenerator\n",
    "from tensorflow.keras.utils import to_categorical"
   ]
  },
  {
   "cell_type": "code",
   "execution_count": 4,
   "metadata": {
    "id": "ijKROoMSnCzo"
   },
   "outputs": [],
   "source": [
    "X = train_data.drop(['label'], 1).values\n",
    "y = train_data['label'].values"
   ]
  },
  {
   "cell_type": "code",
   "execution_count": 5,
   "metadata": {
    "id": "FwLM9JIjovYy"
   },
   "outputs": [],
   "source": [
    "test_x = test_data.values"
   ]
  },
  {
   "cell_type": "code",
   "execution_count": 6,
   "metadata": {
    "id": "o0PtT1nFovjt"
   },
   "outputs": [],
   "source": [
    "X = X / 255.0\n",
    "test_x = test_x / 255.0"
   ]
  },
  {
   "cell_type": "code",
   "execution_count": 7,
   "metadata": {
    "id": "2pN6XRalovkp"
   },
   "outputs": [],
   "source": [
    "X = X.reshape(-1,28,28,1)\n",
    "test_x = test_x.reshape(-1,28,28,1)"
   ]
  },
  {
   "cell_type": "code",
   "execution_count": 8,
   "metadata": {
    "id": "xxahC06sovqH"
   },
   "outputs": [],
   "source": [
    "y = to_categorical(y)"
   ]
  },
  {
   "cell_type": "code",
   "execution_count": 9,
   "metadata": {
    "id": "zmJkvmnjovrM"
   },
   "outputs": [],
   "source": [
    "X_train, X_test, y_train, y_test = train_test_split(X, y, test_size=0.1, random_state=0)"
   ]
  },
  {
   "cell_type": "code",
   "execution_count": 16,
   "metadata": {
    "id": "tTmyXeAvo9sp"
   },
   "outputs": [],
   "source": [
    "model=Sequential()  \n",
    "model.add(Conv2D(filters=64, kernel_size = (3,3), activation=\"relu\", input_shape=(28,28,1)))\n",
    "model.add(Conv2D(filters=64, kernel_size = (3,3), activation=\"relu\"))\n",
    "model.add(MaxPooling2D(pool_size=(2,2)))\n",
    "model.add(BatchNormalization())\n",
    "model.add(Conv2D(filters=128, kernel_size = (3,3), activation=\"relu\"))\n",
    "model.add(Conv2D(filters=128, kernel_size = (3,3), activation=\"relu\"))\n",
    "model.add(MaxPooling2D(pool_size=(2,2)))\n",
    "model.add(BatchNormalization())    \n",
    "model.add(Conv2D(filters=256, kernel_size = (3,3), activation=\"relu\"))\n",
    "model.add(MaxPooling2D(pool_size=(2,2)))\n",
    "model.add(Flatten())\n",
    "model.add(BatchNormalization())\n",
    "model.add(Dense(512,activation=\"relu\"))\n",
    "model.add(Dense(10,activation=\"softmax\"))\n",
    "model.compile(loss=\"categorical_crossentropy\", optimizer=\"adam\", metrics=[\"accuracy\"])"
   ]
  },
  {
   "cell_type": "code",
   "execution_count": 11,
   "metadata": {
    "id": "-w351j72o9uC"
   },
   "outputs": [],
   "source": [
    "datagen = ImageDataGenerator(\n",
    "        rotation_range=10,  \n",
    "        zoom_range = 0.1, \n",
    "        width_shift_range=0.1,  \n",
    "        height_shift_range=0.1,\n",
    "        horizontal_flip=False, \n",
    "        vertical_flip=False)  \n",
    "\n",
    "train_gen = datagen.flow(X_train, y_train, batch_size=64)\n",
    "test_gen = datagen.flow(X_test, y_test, batch_size=64)"
   ]
  },
  {
   "cell_type": "code",
   "execution_count": 12,
   "metadata": {
    "colab": {
     "base_uri": "https://localhost:8080/"
    },
    "id": "bc_-gZDAo9y1",
    "outputId": "482e1f03-7d12-47ba-a153-2f946cffa93b"
   },
   "outputs": [
    {
     "name": "stderr",
     "output_type": "stream",
     "text": [
      "/usr/local/lib/python3.6/dist-packages/tensorflow/python/keras/engine/training.py:1844: UserWarning: `Model.fit_generator` is deprecated and will be removed in a future version. Please use `Model.fit`, which supports generators.\n",
      "  warnings.warn('`Model.fit_generator` is deprecated and '\n"
     ]
    },
    {
     "name": "stdout",
     "output_type": "stream",
     "text": [
      "Epoch 1/50\n",
      "590/590 [==============================] - 20s 21ms/step - loss: 0.2990 - accuracy: 0.9064 - val_loss: 0.0770 - val_accuracy: 0.9757\n",
      "Epoch 2/50\n",
      "590/590 [==============================] - 12s 20ms/step - loss: 0.0741 - accuracy: 0.9769 - val_loss: 0.0852 - val_accuracy: 0.9726\n",
      "Epoch 3/50\n",
      "590/590 [==============================] - 12s 20ms/step - loss: 0.0633 - accuracy: 0.9799 - val_loss: 0.0542 - val_accuracy: 0.9861\n",
      "Epoch 4/50\n",
      "590/590 [==============================] - 12s 20ms/step - loss: 0.0553 - accuracy: 0.9829 - val_loss: 0.0645 - val_accuracy: 0.9810\n",
      "Epoch 5/50\n",
      "590/590 [==============================] - 12s 20ms/step - loss: 0.0424 - accuracy: 0.9872 - val_loss: 0.0406 - val_accuracy: 0.9873\n",
      "Epoch 6/50\n",
      "590/590 [==============================] - 12s 20ms/step - loss: 0.0341 - accuracy: 0.9893 - val_loss: 0.0427 - val_accuracy: 0.9856\n",
      "Epoch 7/50\n",
      "590/590 [==============================] - 12s 20ms/step - loss: 0.0374 - accuracy: 0.9879 - val_loss: 0.0461 - val_accuracy: 0.9844\n",
      "Epoch 8/50\n",
      "590/590 [==============================] - 12s 20ms/step - loss: 0.0368 - accuracy: 0.9890 - val_loss: 0.0284 - val_accuracy: 0.9906\n",
      "Epoch 9/50\n",
      "590/590 [==============================] - 12s 20ms/step - loss: 0.0332 - accuracy: 0.9898 - val_loss: 0.0427 - val_accuracy: 0.9885\n",
      "Epoch 10/50\n",
      "590/590 [==============================] - 12s 20ms/step - loss: 0.0302 - accuracy: 0.9904 - val_loss: 0.0365 - val_accuracy: 0.9887\n",
      "Epoch 11/50\n",
      "590/590 [==============================] - 12s 20ms/step - loss: 0.0290 - accuracy: 0.9917 - val_loss: 0.0580 - val_accuracy: 0.9839\n",
      "Epoch 12/50\n",
      "590/590 [==============================] - 12s 20ms/step - loss: 0.0290 - accuracy: 0.9912 - val_loss: 0.0362 - val_accuracy: 0.9889\n",
      "Epoch 13/50\n",
      "590/590 [==============================] - 12s 20ms/step - loss: 0.0261 - accuracy: 0.9929 - val_loss: 0.0317 - val_accuracy: 0.9901\n",
      "Epoch 14/50\n",
      "590/590 [==============================] - 12s 20ms/step - loss: 0.0242 - accuracy: 0.9927 - val_loss: 0.0497 - val_accuracy: 0.9856\n",
      "Epoch 15/50\n",
      "590/590 [==============================] - 12s 20ms/step - loss: 0.0252 - accuracy: 0.9924 - val_loss: 0.0355 - val_accuracy: 0.9901\n",
      "Epoch 16/50\n",
      "590/590 [==============================] - 12s 20ms/step - loss: 0.0237 - accuracy: 0.9926 - val_loss: 0.0307 - val_accuracy: 0.9916\n",
      "Epoch 17/50\n",
      "590/590 [==============================] - 12s 20ms/step - loss: 0.0160 - accuracy: 0.9945 - val_loss: 0.0233 - val_accuracy: 0.9933\n",
      "Epoch 18/50\n",
      "590/590 [==============================] - 12s 20ms/step - loss: 0.0190 - accuracy: 0.9941 - val_loss: 0.0307 - val_accuracy: 0.9913\n",
      "Epoch 19/50\n",
      "590/590 [==============================] - 12s 20ms/step - loss: 0.0225 - accuracy: 0.9929 - val_loss: 0.0341 - val_accuracy: 0.9894\n",
      "Epoch 20/50\n",
      "590/590 [==============================] - 12s 20ms/step - loss: 0.0175 - accuracy: 0.9948 - val_loss: 0.0528 - val_accuracy: 0.9863\n",
      "Epoch 21/50\n",
      "590/590 [==============================] - 12s 20ms/step - loss: 0.0209 - accuracy: 0.9938 - val_loss: 0.0299 - val_accuracy: 0.9918\n",
      "Epoch 22/50\n",
      "590/590 [==============================] - 12s 20ms/step - loss: 0.0191 - accuracy: 0.9944 - val_loss: 0.0285 - val_accuracy: 0.9918\n",
      "Epoch 23/50\n",
      "590/590 [==============================] - 12s 20ms/step - loss: 0.0139 - accuracy: 0.9957 - val_loss: 0.0243 - val_accuracy: 0.9928\n",
      "Epoch 24/50\n",
      "590/590 [==============================] - 12s 20ms/step - loss: 0.0139 - accuracy: 0.9959 - val_loss: 0.0264 - val_accuracy: 0.9923\n",
      "Epoch 25/50\n",
      "590/590 [==============================] - 12s 20ms/step - loss: 0.0160 - accuracy: 0.9949 - val_loss: 0.0313 - val_accuracy: 0.9909\n",
      "Epoch 26/50\n",
      "590/590 [==============================] - 12s 21ms/step - loss: 0.0174 - accuracy: 0.9944 - val_loss: 0.0283 - val_accuracy: 0.9937\n",
      "Epoch 27/50\n",
      "590/590 [==============================] - 12s 21ms/step - loss: 0.0151 - accuracy: 0.9955 - val_loss: 0.0312 - val_accuracy: 0.9918\n",
      "Epoch 28/50\n",
      "590/590 [==============================] - 12s 20ms/step - loss: 0.0131 - accuracy: 0.9955 - val_loss: 0.0369 - val_accuracy: 0.9899\n",
      "Epoch 29/50\n",
      "590/590 [==============================] - 12s 20ms/step - loss: 0.0132 - accuracy: 0.9961 - val_loss: 0.0578 - val_accuracy: 0.9880\n",
      "Epoch 30/50\n",
      "590/590 [==============================] - 12s 21ms/step - loss: 0.0127 - accuracy: 0.9961 - val_loss: 0.0292 - val_accuracy: 0.9930\n",
      "Epoch 31/50\n",
      "590/590 [==============================] - 13s 22ms/step - loss: 0.0132 - accuracy: 0.9956 - val_loss: 0.0221 - val_accuracy: 0.9933\n",
      "Epoch 32/50\n",
      "590/590 [==============================] - 12s 21ms/step - loss: 0.0117 - accuracy: 0.9964 - val_loss: 0.0363 - val_accuracy: 0.9925\n",
      "Epoch 33/50\n",
      "590/590 [==============================] - 13s 22ms/step - loss: 0.0142 - accuracy: 0.9957 - val_loss: 0.0261 - val_accuracy: 0.9930\n",
      "Epoch 34/50\n",
      "590/590 [==============================] - 12s 20ms/step - loss: 0.0117 - accuracy: 0.9961 - val_loss: 0.0188 - val_accuracy: 0.9950\n",
      "Epoch 35/50\n",
      "590/590 [==============================] - 12s 20ms/step - loss: 0.0099 - accuracy: 0.9968 - val_loss: 0.0270 - val_accuracy: 0.9933\n",
      "Epoch 36/50\n",
      "590/590 [==============================] - 12s 20ms/step - loss: 0.0102 - accuracy: 0.9973 - val_loss: 0.0349 - val_accuracy: 0.9906\n",
      "Epoch 37/50\n",
      "590/590 [==============================] - 12s 20ms/step - loss: 0.0119 - accuracy: 0.9960 - val_loss: 0.0272 - val_accuracy: 0.9945\n",
      "Epoch 38/50\n",
      "590/590 [==============================] - 12s 20ms/step - loss: 0.0096 - accuracy: 0.9968 - val_loss: 0.0303 - val_accuracy: 0.9911\n",
      "Epoch 39/50\n",
      "590/590 [==============================] - 12s 20ms/step - loss: 0.0080 - accuracy: 0.9976 - val_loss: 0.0229 - val_accuracy: 0.9925\n",
      "Epoch 40/50\n",
      "590/590 [==============================] - 12s 21ms/step - loss: 0.0106 - accuracy: 0.9972 - val_loss: 0.0271 - val_accuracy: 0.9928\n",
      "Epoch 41/50\n",
      "590/590 [==============================] - 12s 20ms/step - loss: 0.0109 - accuracy: 0.9968 - val_loss: 0.0565 - val_accuracy: 0.9870\n",
      "Epoch 42/50\n",
      "590/590 [==============================] - 12s 20ms/step - loss: 0.0106 - accuracy: 0.9966 - val_loss: 0.0299 - val_accuracy: 0.9940\n",
      "Epoch 43/50\n",
      "590/590 [==============================] - 12s 20ms/step - loss: 0.0089 - accuracy: 0.9971 - val_loss: 0.0277 - val_accuracy: 0.9933\n",
      "Epoch 44/50\n",
      "590/590 [==============================] - 12s 20ms/step - loss: 0.0098 - accuracy: 0.9973 - val_loss: 0.0294 - val_accuracy: 0.9928\n",
      "Epoch 45/50\n",
      "590/590 [==============================] - 12s 20ms/step - loss: 0.0079 - accuracy: 0.9975 - val_loss: 0.0354 - val_accuracy: 0.9923\n",
      "Epoch 46/50\n",
      "590/590 [==============================] - 12s 20ms/step - loss: 0.0115 - accuracy: 0.9966 - val_loss: 0.0322 - val_accuracy: 0.9923\n",
      "Epoch 47/50\n",
      "590/590 [==============================] - 12s 21ms/step - loss: 0.0079 - accuracy: 0.9975 - val_loss: 0.0367 - val_accuracy: 0.9937\n",
      "Epoch 48/50\n",
      "590/590 [==============================] - 12s 20ms/step - loss: 0.0106 - accuracy: 0.9967 - val_loss: 0.0299 - val_accuracy: 0.9930\n",
      "Epoch 49/50\n",
      "590/590 [==============================] - 12s 21ms/step - loss: 0.0079 - accuracy: 0.9975 - val_loss: 0.0237 - val_accuracy: 0.9937\n",
      "Epoch 50/50\n",
      "590/590 [==============================] - 12s 21ms/step - loss: 0.0083 - accuracy: 0.9973 - val_loss: 0.0189 - val_accuracy: 0.9925\n"
     ]
    }
   ],
   "source": [
    "history = model.fit_generator(train_gen, \n",
    "                              epochs = 50, \n",
    "                              steps_per_epoch = X_train.shape[0] // 64,\n",
    "                              validation_data = test_gen,\n",
    "                              validation_steps = X_test.shape[0] // 64)"
   ]
  },
  {
   "cell_type": "code",
   "execution_count": 13,
   "metadata": {
    "id": "KQdbExD3ovwg"
   },
   "outputs": [],
   "source": [
    "acc = history.history['accuracy']\n",
    "val_acc = history.history['val_accuracy']\n",
    "\n",
    "loss = history.history['loss']\n",
    "val_loss = history.history['val_loss']"
   ]
  },
  {
   "cell_type": "code",
   "execution_count": 14,
   "metadata": {
    "colab": {
     "base_uri": "https://localhost:8080/"
    },
    "id": "skGAzsezrOqz",
    "outputId": "1fcd80d8-23a9-477e-d9dc-b24e82f220f3"
   },
   "outputs": [
    {
     "name": "stdout",
     "output_type": "stream",
     "text": [
      "Accuracy on training data is:- 99.70585107803345 %\n",
      "Loss 0.8826431818306446\n",
      "Accuracy on validation data is:- 99.25480484962463 %\n",
      "Loss 1.8920322880148888\n"
     ]
    }
   ],
   "source": [
    "print(f\"Accuracy on training data is:- {acc[-1]*100} %\")\n",
    "print(f\"Loss {loss[-1]*100}\")\n",
    "\n",
    "print(f\"Accuracy on validation data is:- {val_acc[-1]*100} %\")\n",
    "print(f\"Loss {val_loss[-1]*100}\")"
   ]
  },
  {
   "cell_type": "code",
   "execution_count": 15,
   "metadata": {
    "colab": {
     "base_uri": "https://localhost:8080/",
     "height": 513
    },
    "id": "sZkO75_NrEmO",
    "outputId": "e737e9b0-9610-4637-fa5c-2f5239f048c4"
   },
   "outputs": [
    {
     "data": {
      "image/png": "[encoded data removed]",
      "text/plain": [
       "<Figure size 432x288 with 1 Axes>"
      ]
     },
     "metadata": {
      "needs_background": "light",
      "tags": []
     },
     "output_type": "display_data"
    },
    {
     "data": {
      "image/png": "[encoded data removed]",
      "text/plain": [
       "<Figure size 432x288 with 1 Axes>"
      ]
     },
     "metadata": {
      "needs_background": "light",
      "tags": []
     },
     "output_type": "display_data"
    }
   ],
   "source": [
    "epochs = range(len(acc))\n",
    "\n",
    "plt.plot(epochs, acc,'b',label='training acc')\n",
    "plt.plot(epochs, val_acc, 'r', label='validation acc')\n",
    "plt.legend()\n",
    "plt.show()\n",
    "\n",
    "\n",
    "plt.plot(epochs, loss,'b',label='training loss')\n",
    "plt.plot(epochs, val_loss, 'r', label='validation loss')\n",
    "plt.legend()\n",
    "plt.show()"
   ]
  },
  {
   "cell_type": "code",
   "execution_count": null,
   "metadata": {
    "id": "lMKplOdxtqHM"
   },
   "outputs": [],
   "source": []
  }
 ],
 "metadata": {
  "accelerator": "GPU",
  "colab": {
   "collapsed_sections": [],
   "name": "minst.ipynb",
   "provenance": []
  },
  "kernelspec": {
   "display_name": "Python 3",
   "language": "python",
   "name": "python3"
  },
  "language_info": {
   "codemirror_mode": {
    "name": "ipython",
    "version": 3
   },
   "file_extension": ".py",
   "mimetype": "text/x-python",
   "name": "python",
   "nbconvert_exporter": "python",
   "pygments_lexer": "ipython3",
   "version": "3.7.4"
  }
 },
 "nbformat": 4,
 "nbformat_minor": 1
}
